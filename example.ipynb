{
 "cells": [
  {
   "metadata": {},
   "cell_type": "markdown",
   "source": "# TCMNP R-Language資料庫 使用Python查詢範例 (Windows)",
   "id": "844fbf801af58b75"
  },
  {
   "metadata": {},
   "cell_type": "markdown",
   "source": "## 1. 安裝R和Python (建立新環境時)",
   "id": "bd73f0d2ff459565"
  },
  {
   "metadata": {},
   "cell_type": "markdown",
   "source": [
    "R-Language https://www.r-project.org/\n",
    "\n",
    "RTools https://cran.r-project.org/bin/windows/Rtools/\n",
    "\n",
    "Python https://www.python.org/\n",
    "\n",
    "### 一次複製一行，貼在R Studio內並執行\n",
    "\n",
    "if(!require(devtools))install.packages(\"devtools\")\n",
    "\n",
    "if(!require(TCMNP))devtools::install_github(\"tcmlab/TCMNP\",upgrade = FALSE,dependencies = TRUE)"
   ],
   "id": "45dd22fbd67db34f"
  },
  {
   "metadata": {},
   "cell_type": "markdown",
   "source": "## 2. Python套件、R套件",
   "id": "832c4dbf26a595f1"
  },
  {
   "metadata": {},
   "cell_type": "markdown",
   "source": "安裝Python套件",
   "id": "e7fb126d7b74cbb0"
  },
  {
   "metadata": {
    "ExecuteTime": {
     "end_time": "2025-07-26T09:17:02.130735Z",
     "start_time": "2025-07-26T09:16:59.577768Z"
    }
   },
   "cell_type": "code",
   "source": "!pip install -Ur requirements.txt",
   "id": "6080e80d6cda6dce",
   "outputs": [
    {
     "name": "stdout",
     "output_type": "stream",
     "text": [
      "Requirement already satisfied: jupyterlab in c:\\users\\eavic\\appdata\\local\\programs\\python\\python313\\lib\\site-packages (from -r requirements.txt (line 1)) (4.4.5)\n",
      "Requirement already satisfied: opencc-python-reimplemented in c:\\users\\eavic\\appdata\\local\\programs\\python\\python313\\lib\\site-packages (from -r requirements.txt (line 2)) (0.1.7)\n",
      "Requirement already satisfied: rpy2~=3.6.1 in c:\\users\\eavic\\appdata\\local\\programs\\python\\python313\\lib\\site-packages (from rpy2[all]~=3.6.1->-r requirements.txt (line 3)) (3.6.1)\n",
      "Requirement already satisfied: pandas~=2.3.1 in c:\\users\\eavic\\appdata\\local\\programs\\python\\python313\\lib\\site-packages (from -r requirements.txt (line 4)) (2.3.1)\n",
      "Requirement already satisfied: openpyxl in c:\\users\\eavic\\appdata\\local\\programs\\python\\python313\\lib\\site-packages (from -r requirements.txt (line 5)) (3.1.5)\n",
      "Requirement already satisfied: numpy~=2.3.2 in c:\\users\\eavic\\appdata\\local\\programs\\python\\python313\\lib\\site-packages (from -r requirements.txt (line 8)) (2.3.2)\n",
      "Requirement already satisfied: rpy2-rinterface>=3.6.1 in c:\\users\\eavic\\appdata\\local\\programs\\python\\python313\\lib\\site-packages (from rpy2~=3.6.1->rpy2[all]~=3.6.1->-r requirements.txt (line 3)) (3.6.1)\n",
      "Requirement already satisfied: rpy2-robjects>=3.6.1 in c:\\users\\eavic\\appdata\\local\\programs\\python\\python313\\lib\\site-packages (from rpy2~=3.6.1->rpy2[all]~=3.6.1->-r requirements.txt (line 3)) (3.6.1)\n",
      "Requirement already satisfied: packaging in c:\\users\\eavic\\appdata\\local\\programs\\python\\python313\\lib\\site-packages (from rpy2~=3.6.1->rpy2[all]~=3.6.1->-r requirements.txt (line 3)) (25.0)\n",
      "Requirement already satisfied: python-dateutil>=2.8.2 in c:\\users\\eavic\\appdata\\local\\programs\\python\\python313\\lib\\site-packages (from pandas~=2.3.1->-r requirements.txt (line 4)) (2.9.0.post0)\n",
      "Requirement already satisfied: pytz>=2020.1 in c:\\users\\eavic\\appdata\\local\\programs\\python\\python313\\lib\\site-packages (from pandas~=2.3.1->-r requirements.txt (line 4)) (2025.2)\n",
      "Requirement already satisfied: tzdata>=2022.7 in c:\\users\\eavic\\appdata\\local\\programs\\python\\python313\\lib\\site-packages (from pandas~=2.3.1->-r requirements.txt (line 4)) (2025.2)\n",
      "Requirement already satisfied: async-lru>=1.0.0 in c:\\users\\eavic\\appdata\\local\\programs\\python\\python313\\lib\\site-packages (from jupyterlab->-r requirements.txt (line 1)) (2.0.5)\n",
      "Requirement already satisfied: httpx>=0.25.0 in c:\\users\\eavic\\appdata\\local\\programs\\python\\python313\\lib\\site-packages (from jupyterlab->-r requirements.txt (line 1)) (0.28.1)\n",
      "Requirement already satisfied: ipykernel>=6.5.0 in c:\\users\\eavic\\appdata\\local\\programs\\python\\python313\\lib\\site-packages (from jupyterlab->-r requirements.txt (line 1)) (6.30.0)\n",
      "Requirement already satisfied: jinja2>=3.0.3 in c:\\users\\eavic\\appdata\\local\\programs\\python\\python313\\lib\\site-packages (from jupyterlab->-r requirements.txt (line 1)) (3.1.6)\n",
      "Requirement already satisfied: jupyter-core in c:\\users\\eavic\\appdata\\local\\programs\\python\\python313\\lib\\site-packages (from jupyterlab->-r requirements.txt (line 1)) (5.8.1)\n",
      "Requirement already satisfied: jupyter-lsp>=2.0.0 in c:\\users\\eavic\\appdata\\local\\programs\\python\\python313\\lib\\site-packages (from jupyterlab->-r requirements.txt (line 1)) (2.2.6)\n",
      "Requirement already satisfied: jupyter-server<3,>=2.4.0 in c:\\users\\eavic\\appdata\\local\\programs\\python\\python313\\lib\\site-packages (from jupyterlab->-r requirements.txt (line 1)) (2.16.0)\n",
      "Requirement already satisfied: jupyterlab-server<3,>=2.27.1 in c:\\users\\eavic\\appdata\\local\\programs\\python\\python313\\lib\\site-packages (from jupyterlab->-r requirements.txt (line 1)) (2.27.3)\n",
      "Requirement already satisfied: notebook-shim>=0.2 in c:\\users\\eavic\\appdata\\local\\programs\\python\\python313\\lib\\site-packages (from jupyterlab->-r requirements.txt (line 1)) (0.2.4)\n",
      "Requirement already satisfied: setuptools>=41.1.0 in c:\\users\\eavic\\appdata\\local\\programs\\python\\python313\\lib\\site-packages (from jupyterlab->-r requirements.txt (line 1)) (80.9.0)\n",
      "Requirement already satisfied: tornado>=6.2.0 in c:\\users\\eavic\\appdata\\local\\programs\\python\\python313\\lib\\site-packages (from jupyterlab->-r requirements.txt (line 1)) (6.5.1)\n",
      "Requirement already satisfied: traitlets in c:\\users\\eavic\\appdata\\local\\programs\\python\\python313\\lib\\site-packages (from jupyterlab->-r requirements.txt (line 1)) (5.14.3)\n",
      "Requirement already satisfied: anyio>=3.1.0 in c:\\users\\eavic\\appdata\\local\\programs\\python\\python313\\lib\\site-packages (from jupyter-server<3,>=2.4.0->jupyterlab->-r requirements.txt (line 1)) (4.9.0)\n",
      "Requirement already satisfied: argon2-cffi>=21.1 in c:\\users\\eavic\\appdata\\local\\programs\\python\\python313\\lib\\site-packages (from jupyter-server<3,>=2.4.0->jupyterlab->-r requirements.txt (line 1)) (25.1.0)\n",
      "Requirement already satisfied: jupyter-client>=7.4.4 in c:\\users\\eavic\\appdata\\local\\programs\\python\\python313\\lib\\site-packages (from jupyter-server<3,>=2.4.0->jupyterlab->-r requirements.txt (line 1)) (8.6.3)\n",
      "Requirement already satisfied: jupyter-events>=0.11.0 in c:\\users\\eavic\\appdata\\local\\programs\\python\\python313\\lib\\site-packages (from jupyter-server<3,>=2.4.0->jupyterlab->-r requirements.txt (line 1)) (0.12.0)\n",
      "Requirement already satisfied: jupyter-server-terminals>=0.4.4 in c:\\users\\eavic\\appdata\\local\\programs\\python\\python313\\lib\\site-packages (from jupyter-server<3,>=2.4.0->jupyterlab->-r requirements.txt (line 1)) (0.5.3)\n",
      "Requirement already satisfied: nbconvert>=6.4.4 in c:\\users\\eavic\\appdata\\local\\programs\\python\\python313\\lib\\site-packages (from jupyter-server<3,>=2.4.0->jupyterlab->-r requirements.txt (line 1)) (7.16.6)\n",
      "Requirement already satisfied: nbformat>=5.3.0 in c:\\users\\eavic\\appdata\\local\\programs\\python\\python313\\lib\\site-packages (from jupyter-server<3,>=2.4.0->jupyterlab->-r requirements.txt (line 1)) (5.10.4)\n",
      "Requirement already satisfied: overrides>=5.0 in c:\\users\\eavic\\appdata\\local\\programs\\python\\python313\\lib\\site-packages (from jupyter-server<3,>=2.4.0->jupyterlab->-r requirements.txt (line 1)) (7.7.0)\n",
      "Requirement already satisfied: prometheus-client>=0.9 in c:\\users\\eavic\\appdata\\local\\programs\\python\\python313\\lib\\site-packages (from jupyter-server<3,>=2.4.0->jupyterlab->-r requirements.txt (line 1)) (0.22.1)\n",
      "Requirement already satisfied: pywinpty>=2.0.1 in c:\\users\\eavic\\appdata\\local\\programs\\python\\python313\\lib\\site-packages (from jupyter-server<3,>=2.4.0->jupyterlab->-r requirements.txt (line 1)) (2.0.15)\n",
      "Requirement already satisfied: pyzmq>=24 in c:\\users\\eavic\\appdata\\local\\programs\\python\\python313\\lib\\site-packages (from jupyter-server<3,>=2.4.0->jupyterlab->-r requirements.txt (line 1)) (27.0.0)\n",
      "Requirement already satisfied: send2trash>=1.8.2 in c:\\users\\eavic\\appdata\\local\\programs\\python\\python313\\lib\\site-packages (from jupyter-server<3,>=2.4.0->jupyterlab->-r requirements.txt (line 1)) (1.8.3)\n",
      "Requirement already satisfied: terminado>=0.8.3 in c:\\users\\eavic\\appdata\\local\\programs\\python\\python313\\lib\\site-packages (from jupyter-server<3,>=2.4.0->jupyterlab->-r requirements.txt (line 1)) (0.18.1)\n",
      "Requirement already satisfied: websocket-client>=1.7 in c:\\users\\eavic\\appdata\\local\\programs\\python\\python313\\lib\\site-packages (from jupyter-server<3,>=2.4.0->jupyterlab->-r requirements.txt (line 1)) (1.8.0)\n",
      "Requirement already satisfied: babel>=2.10 in c:\\users\\eavic\\appdata\\local\\programs\\python\\python313\\lib\\site-packages (from jupyterlab-server<3,>=2.27.1->jupyterlab->-r requirements.txt (line 1)) (2.17.0)\n",
      "Requirement already satisfied: json5>=0.9.0 in c:\\users\\eavic\\appdata\\local\\programs\\python\\python313\\lib\\site-packages (from jupyterlab-server<3,>=2.27.1->jupyterlab->-r requirements.txt (line 1)) (0.12.0)\n",
      "Requirement already satisfied: jsonschema>=4.18.0 in c:\\users\\eavic\\appdata\\local\\programs\\python\\python313\\lib\\site-packages (from jupyterlab-server<3,>=2.27.1->jupyterlab->-r requirements.txt (line 1)) (4.25.0)\n",
      "Requirement already satisfied: requests>=2.31 in c:\\users\\eavic\\appdata\\local\\programs\\python\\python313\\lib\\site-packages (from jupyterlab-server<3,>=2.27.1->jupyterlab->-r requirements.txt (line 1)) (2.32.4)\n",
      "Requirement already satisfied: et-xmlfile in c:\\users\\eavic\\appdata\\local\\programs\\python\\python313\\lib\\site-packages (from openpyxl->-r requirements.txt (line 5)) (2.0.0)\n",
      "Requirement already satisfied: idna>=2.8 in c:\\users\\eavic\\appdata\\local\\programs\\python\\python313\\lib\\site-packages (from anyio>=3.1.0->jupyter-server<3,>=2.4.0->jupyterlab->-r requirements.txt (line 1)) (3.10)\n",
      "Requirement already satisfied: sniffio>=1.1 in c:\\users\\eavic\\appdata\\local\\programs\\python\\python313\\lib\\site-packages (from anyio>=3.1.0->jupyter-server<3,>=2.4.0->jupyterlab->-r requirements.txt (line 1)) (1.3.1)\n",
      "Requirement already satisfied: argon2-cffi-bindings in c:\\users\\eavic\\appdata\\local\\programs\\python\\python313\\lib\\site-packages (from argon2-cffi>=21.1->jupyter-server<3,>=2.4.0->jupyterlab->-r requirements.txt (line 1)) (21.2.0)\n",
      "Requirement already satisfied: certifi in c:\\users\\eavic\\appdata\\local\\programs\\python\\python313\\lib\\site-packages (from httpx>=0.25.0->jupyterlab->-r requirements.txt (line 1)) (2025.7.14)\n",
      "Requirement already satisfied: httpcore==1.* in c:\\users\\eavic\\appdata\\local\\programs\\python\\python313\\lib\\site-packages (from httpx>=0.25.0->jupyterlab->-r requirements.txt (line 1)) (1.0.9)\n",
      "Requirement already satisfied: h11>=0.16 in c:\\users\\eavic\\appdata\\local\\programs\\python\\python313\\lib\\site-packages (from httpcore==1.*->httpx>=0.25.0->jupyterlab->-r requirements.txt (line 1)) (0.16.0)\n",
      "Requirement already satisfied: comm>=0.1.1 in c:\\users\\eavic\\appdata\\local\\programs\\python\\python313\\lib\\site-packages (from ipykernel>=6.5.0->jupyterlab->-r requirements.txt (line 1)) (0.2.2)\n",
      "Requirement already satisfied: debugpy>=1.6.5 in c:\\users\\eavic\\appdata\\local\\programs\\python\\python313\\lib\\site-packages (from ipykernel>=6.5.0->jupyterlab->-r requirements.txt (line 1)) (1.8.15)\n",
      "Requirement already satisfied: ipython>=7.23.1 in c:\\users\\eavic\\appdata\\local\\programs\\python\\python313\\lib\\site-packages (from ipykernel>=6.5.0->jupyterlab->-r requirements.txt (line 1)) (9.4.0)\n",
      "Requirement already satisfied: matplotlib-inline>=0.1 in c:\\users\\eavic\\appdata\\local\\programs\\python\\python313\\lib\\site-packages (from ipykernel>=6.5.0->jupyterlab->-r requirements.txt (line 1)) (0.1.7)\n",
      "Requirement already satisfied: nest-asyncio>=1.4 in c:\\users\\eavic\\appdata\\local\\programs\\python\\python313\\lib\\site-packages (from ipykernel>=6.5.0->jupyterlab->-r requirements.txt (line 1)) (1.6.0)\n",
      "Requirement already satisfied: psutil>=5.7 in c:\\users\\eavic\\appdata\\local\\programs\\python\\python313\\lib\\site-packages (from ipykernel>=6.5.0->jupyterlab->-r requirements.txt (line 1)) (7.0.0)\n",
      "Requirement already satisfied: colorama in c:\\users\\eavic\\appdata\\local\\programs\\python\\python313\\lib\\site-packages (from ipython>=7.23.1->ipykernel>=6.5.0->jupyterlab->-r requirements.txt (line 1)) (0.4.6)\n",
      "Requirement already satisfied: decorator in c:\\users\\eavic\\appdata\\local\\programs\\python\\python313\\lib\\site-packages (from ipython>=7.23.1->ipykernel>=6.5.0->jupyterlab->-r requirements.txt (line 1)) (5.2.1)\n",
      "Requirement already satisfied: ipython-pygments-lexers in c:\\users\\eavic\\appdata\\local\\programs\\python\\python313\\lib\\site-packages (from ipython>=7.23.1->ipykernel>=6.5.0->jupyterlab->-r requirements.txt (line 1)) (1.1.1)\n",
      "Requirement already satisfied: jedi>=0.16 in c:\\users\\eavic\\appdata\\local\\programs\\python\\python313\\lib\\site-packages (from ipython>=7.23.1->ipykernel>=6.5.0->jupyterlab->-r requirements.txt (line 1)) (0.19.2)\n",
      "Requirement already satisfied: prompt_toolkit<3.1.0,>=3.0.41 in c:\\users\\eavic\\appdata\\local\\programs\\python\\python313\\lib\\site-packages (from ipython>=7.23.1->ipykernel>=6.5.0->jupyterlab->-r requirements.txt (line 1)) (3.0.51)\n",
      "Requirement already satisfied: pygments>=2.4.0 in c:\\users\\eavic\\appdata\\local\\programs\\python\\python313\\lib\\site-packages (from ipython>=7.23.1->ipykernel>=6.5.0->jupyterlab->-r requirements.txt (line 1)) (2.19.2)\n",
      "Requirement already satisfied: stack_data in c:\\users\\eavic\\appdata\\local\\programs\\python\\python313\\lib\\site-packages (from ipython>=7.23.1->ipykernel>=6.5.0->jupyterlab->-r requirements.txt (line 1)) (0.6.3)\n",
      "Requirement already satisfied: wcwidth in c:\\users\\eavic\\appdata\\local\\programs\\python\\python313\\lib\\site-packages (from prompt_toolkit<3.1.0,>=3.0.41->ipython>=7.23.1->ipykernel>=6.5.0->jupyterlab->-r requirements.txt (line 1)) (0.2.13)\n",
      "Requirement already satisfied: parso<0.9.0,>=0.8.4 in c:\\users\\eavic\\appdata\\local\\programs\\python\\python313\\lib\\site-packages (from jedi>=0.16->ipython>=7.23.1->ipykernel>=6.5.0->jupyterlab->-r requirements.txt (line 1)) (0.8.4)\n",
      "Requirement already satisfied: MarkupSafe>=2.0 in c:\\users\\eavic\\appdata\\local\\programs\\python\\python313\\lib\\site-packages (from jinja2>=3.0.3->jupyterlab->-r requirements.txt (line 1)) (3.0.2)\n",
      "Requirement already satisfied: attrs>=22.2.0 in c:\\users\\eavic\\appdata\\local\\programs\\python\\python313\\lib\\site-packages (from jsonschema>=4.18.0->jupyterlab-server<3,>=2.27.1->jupyterlab->-r requirements.txt (line 1)) (25.3.0)\n",
      "Requirement already satisfied: jsonschema-specifications>=2023.03.6 in c:\\users\\eavic\\appdata\\local\\programs\\python\\python313\\lib\\site-packages (from jsonschema>=4.18.0->jupyterlab-server<3,>=2.27.1->jupyterlab->-r requirements.txt (line 1)) (2025.4.1)\n",
      "Requirement already satisfied: referencing>=0.28.4 in c:\\users\\eavic\\appdata\\local\\programs\\python\\python313\\lib\\site-packages (from jsonschema>=4.18.0->jupyterlab-server<3,>=2.27.1->jupyterlab->-r requirements.txt (line 1)) (0.36.2)\n",
      "Requirement already satisfied: rpds-py>=0.7.1 in c:\\users\\eavic\\appdata\\local\\programs\\python\\python313\\lib\\site-packages (from jsonschema>=4.18.0->jupyterlab-server<3,>=2.27.1->jupyterlab->-r requirements.txt (line 1)) (0.26.0)\n",
      "Requirement already satisfied: platformdirs>=2.5 in c:\\users\\eavic\\appdata\\local\\programs\\python\\python313\\lib\\site-packages (from jupyter-core->jupyterlab->-r requirements.txt (line 1)) (4.3.8)\n",
      "Requirement already satisfied: pywin32>=300 in c:\\users\\eavic\\appdata\\local\\programs\\python\\python313\\lib\\site-packages (from jupyter-core->jupyterlab->-r requirements.txt (line 1)) (311)\n",
      "Requirement already satisfied: python-json-logger>=2.0.4 in c:\\users\\eavic\\appdata\\local\\programs\\python\\python313\\lib\\site-packages (from jupyter-events>=0.11.0->jupyter-server<3,>=2.4.0->jupyterlab->-r requirements.txt (line 1)) (3.3.0)\n",
      "Requirement already satisfied: pyyaml>=5.3 in c:\\users\\eavic\\appdata\\local\\programs\\python\\python313\\lib\\site-packages (from jupyter-events>=0.11.0->jupyter-server<3,>=2.4.0->jupyterlab->-r requirements.txt (line 1)) (6.0.2)\n",
      "Requirement already satisfied: rfc3339-validator in c:\\users\\eavic\\appdata\\local\\programs\\python\\python313\\lib\\site-packages (from jupyter-events>=0.11.0->jupyter-server<3,>=2.4.0->jupyterlab->-r requirements.txt (line 1)) (0.1.4)\n",
      "Requirement already satisfied: rfc3986-validator>=0.1.1 in c:\\users\\eavic\\appdata\\local\\programs\\python\\python313\\lib\\site-packages (from jupyter-events>=0.11.0->jupyter-server<3,>=2.4.0->jupyterlab->-r requirements.txt (line 1)) (0.1.1)\n",
      "Requirement already satisfied: fqdn in c:\\users\\eavic\\appdata\\local\\programs\\python\\python313\\lib\\site-packages (from jsonschema[format-nongpl]>=4.18.0->jupyter-events>=0.11.0->jupyter-server<3,>=2.4.0->jupyterlab->-r requirements.txt (line 1)) (1.5.1)\n",
      "Requirement already satisfied: isoduration in c:\\users\\eavic\\appdata\\local\\programs\\python\\python313\\lib\\site-packages (from jsonschema[format-nongpl]>=4.18.0->jupyter-events>=0.11.0->jupyter-server<3,>=2.4.0->jupyterlab->-r requirements.txt (line 1)) (20.11.0)\n",
      "Requirement already satisfied: jsonpointer>1.13 in c:\\users\\eavic\\appdata\\local\\programs\\python\\python313\\lib\\site-packages (from jsonschema[format-nongpl]>=4.18.0->jupyter-events>=0.11.0->jupyter-server<3,>=2.4.0->jupyterlab->-r requirements.txt (line 1)) (3.0.0)\n",
      "Requirement already satisfied: rfc3987-syntax>=1.1.0 in c:\\users\\eavic\\appdata\\local\\programs\\python\\python313\\lib\\site-packages (from jsonschema[format-nongpl]>=4.18.0->jupyter-events>=0.11.0->jupyter-server<3,>=2.4.0->jupyterlab->-r requirements.txt (line 1)) (1.1.0)\n",
      "Requirement already satisfied: uri-template in c:\\users\\eavic\\appdata\\local\\programs\\python\\python313\\lib\\site-packages (from jsonschema[format-nongpl]>=4.18.0->jupyter-events>=0.11.0->jupyter-server<3,>=2.4.0->jupyterlab->-r requirements.txt (line 1)) (1.3.0)\n",
      "Requirement already satisfied: webcolors>=24.6.0 in c:\\users\\eavic\\appdata\\local\\programs\\python\\python313\\lib\\site-packages (from jsonschema[format-nongpl]>=4.18.0->jupyter-events>=0.11.0->jupyter-server<3,>=2.4.0->jupyterlab->-r requirements.txt (line 1)) (24.11.1)\n",
      "Requirement already satisfied: beautifulsoup4 in c:\\users\\eavic\\appdata\\local\\programs\\python\\python313\\lib\\site-packages (from nbconvert>=6.4.4->jupyter-server<3,>=2.4.0->jupyterlab->-r requirements.txt (line 1)) (4.13.4)\n",
      "Requirement already satisfied: bleach!=5.0.0 in c:\\users\\eavic\\appdata\\local\\programs\\python\\python313\\lib\\site-packages (from bleach[css]!=5.0.0->nbconvert>=6.4.4->jupyter-server<3,>=2.4.0->jupyterlab->-r requirements.txt (line 1)) (6.2.0)\n",
      "Requirement already satisfied: defusedxml in c:\\users\\eavic\\appdata\\local\\programs\\python\\python313\\lib\\site-packages (from nbconvert>=6.4.4->jupyter-server<3,>=2.4.0->jupyterlab->-r requirements.txt (line 1)) (0.7.1)\n",
      "Requirement already satisfied: jupyterlab-pygments in c:\\users\\eavic\\appdata\\local\\programs\\python\\python313\\lib\\site-packages (from nbconvert>=6.4.4->jupyter-server<3,>=2.4.0->jupyterlab->-r requirements.txt (line 1)) (0.3.0)\n",
      "Requirement already satisfied: mistune<4,>=2.0.3 in c:\\users\\eavic\\appdata\\local\\programs\\python\\python313\\lib\\site-packages (from nbconvert>=6.4.4->jupyter-server<3,>=2.4.0->jupyterlab->-r requirements.txt (line 1)) (3.1.3)\n",
      "Requirement already satisfied: nbclient>=0.5.0 in c:\\users\\eavic\\appdata\\local\\programs\\python\\python313\\lib\\site-packages (from nbconvert>=6.4.4->jupyter-server<3,>=2.4.0->jupyterlab->-r requirements.txt (line 1)) (0.10.2)\n",
      "Requirement already satisfied: pandocfilters>=1.4.1 in c:\\users\\eavic\\appdata\\local\\programs\\python\\python313\\lib\\site-packages (from nbconvert>=6.4.4->jupyter-server<3,>=2.4.0->jupyterlab->-r requirements.txt (line 1)) (1.5.1)\n",
      "Requirement already satisfied: webencodings in c:\\users\\eavic\\appdata\\local\\programs\\python\\python313\\lib\\site-packages (from bleach!=5.0.0->bleach[css]!=5.0.0->nbconvert>=6.4.4->jupyter-server<3,>=2.4.0->jupyterlab->-r requirements.txt (line 1)) (0.5.1)\n",
      "Requirement already satisfied: tinycss2<1.5,>=1.1.0 in c:\\users\\eavic\\appdata\\local\\programs\\python\\python313\\lib\\site-packages (from bleach[css]!=5.0.0->nbconvert>=6.4.4->jupyter-server<3,>=2.4.0->jupyterlab->-r requirements.txt (line 1)) (1.4.0)\n",
      "Requirement already satisfied: fastjsonschema>=2.15 in c:\\users\\eavic\\appdata\\local\\programs\\python\\python313\\lib\\site-packages (from nbformat>=5.3.0->jupyter-server<3,>=2.4.0->jupyterlab->-r requirements.txt (line 1)) (2.21.1)\n",
      "Requirement already satisfied: six>=1.5 in c:\\users\\eavic\\appdata\\local\\programs\\python\\python313\\lib\\site-packages (from python-dateutil>=2.8.2->pandas~=2.3.1->-r requirements.txt (line 4)) (1.17.0)\n",
      "Requirement already satisfied: charset_normalizer<4,>=2 in c:\\users\\eavic\\appdata\\local\\programs\\python\\python313\\lib\\site-packages (from requests>=2.31->jupyterlab-server<3,>=2.27.1->jupyterlab->-r requirements.txt (line 1)) (3.4.2)\n",
      "Requirement already satisfied: urllib3<3,>=1.21.1 in c:\\users\\eavic\\appdata\\local\\programs\\python\\python313\\lib\\site-packages (from requests>=2.31->jupyterlab-server<3,>=2.27.1->jupyterlab->-r requirements.txt (line 1)) (2.5.0)\n",
      "Requirement already satisfied: lark>=1.2.2 in c:\\users\\eavic\\appdata\\local\\programs\\python\\python313\\lib\\site-packages (from rfc3987-syntax>=1.1.0->jsonschema[format-nongpl]>=4.18.0->jupyter-events>=0.11.0->jupyter-server<3,>=2.4.0->jupyterlab->-r requirements.txt (line 1)) (1.2.2)\n",
      "Requirement already satisfied: cffi>=1.15.1 in c:\\users\\eavic\\appdata\\local\\programs\\python\\python313\\lib\\site-packages (from rpy2-rinterface>=3.6.1->rpy2~=3.6.1->rpy2[all]~=3.6.1->-r requirements.txt (line 3)) (1.17.1)\n",
      "Requirement already satisfied: pycparser in c:\\users\\eavic\\appdata\\local\\programs\\python\\python313\\lib\\site-packages (from cffi>=1.15.1->rpy2-rinterface>=3.6.1->rpy2~=3.6.1->rpy2[all]~=3.6.1->-r requirements.txt (line 3)) (2.22)\n",
      "Requirement already satisfied: tzlocal in c:\\users\\eavic\\appdata\\local\\programs\\python\\python313\\lib\\site-packages (from rpy2-robjects>=3.6.1->rpy2~=3.6.1->rpy2[all]~=3.6.1->-r requirements.txt (line 3)) (5.3.1)\n",
      "Requirement already satisfied: soupsieve>1.2 in c:\\users\\eavic\\appdata\\local\\programs\\python\\python313\\lib\\site-packages (from beautifulsoup4->nbconvert>=6.4.4->jupyter-server<3,>=2.4.0->jupyterlab->-r requirements.txt (line 1)) (2.7)\n",
      "Requirement already satisfied: typing-extensions>=4.0.0 in c:\\users\\eavic\\appdata\\local\\programs\\python\\python313\\lib\\site-packages (from beautifulsoup4->nbconvert>=6.4.4->jupyter-server<3,>=2.4.0->jupyterlab->-r requirements.txt (line 1)) (4.14.1)\n",
      "Requirement already satisfied: arrow>=0.15.0 in c:\\users\\eavic\\appdata\\local\\programs\\python\\python313\\lib\\site-packages (from isoduration->jsonschema[format-nongpl]>=4.18.0->jupyter-events>=0.11.0->jupyter-server<3,>=2.4.0->jupyterlab->-r requirements.txt (line 1)) (1.3.0)\n",
      "Requirement already satisfied: types-python-dateutil>=2.8.10 in c:\\users\\eavic\\appdata\\local\\programs\\python\\python313\\lib\\site-packages (from arrow>=0.15.0->isoduration->jsonschema[format-nongpl]>=4.18.0->jupyter-events>=0.11.0->jupyter-server<3,>=2.4.0->jupyterlab->-r requirements.txt (line 1)) (2.9.0.20250708)\n",
      "Requirement already satisfied: pytest>=8 in c:\\users\\eavic\\appdata\\local\\programs\\python\\python313\\lib\\site-packages (from rpy2-rinterface[all]; extra == \"all\"->rpy2[all]~=3.6.1->-r requirements.txt (line 3)) (8.4.1)\n",
      "Requirement already satisfied: coverage in c:\\users\\eavic\\appdata\\local\\programs\\python\\python313\\lib\\site-packages (from rpy2-rinterface[all]; extra == \"all\"->rpy2[all]~=3.6.1->-r requirements.txt (line 3)) (7.10.0)\n",
      "Requirement already satisfied: pytest-cov in c:\\users\\eavic\\appdata\\local\\programs\\python\\python313\\lib\\site-packages (from rpy2-rinterface[all]; extra == \"all\"->rpy2[all]~=3.6.1->-r requirements.txt (line 3)) (6.2.1)\n",
      "Requirement already satisfied: iniconfig>=1 in c:\\users\\eavic\\appdata\\local\\programs\\python\\python313\\lib\\site-packages (from pytest>=8->rpy2-rinterface[all]; extra == \"all\"->rpy2[all]~=3.6.1->-r requirements.txt (line 3)) (2.1.0)\n",
      "Requirement already satisfied: pluggy<2,>=1.5 in c:\\users\\eavic\\appdata\\local\\programs\\python\\python313\\lib\\site-packages (from pytest>=8->rpy2-rinterface[all]; extra == \"all\"->rpy2[all]~=3.6.1->-r requirements.txt (line 3)) (1.6.0)\n",
      "Requirement already satisfied: executing>=1.2.0 in c:\\users\\eavic\\appdata\\local\\programs\\python\\python313\\lib\\site-packages (from stack_data->ipython>=7.23.1->ipykernel>=6.5.0->jupyterlab->-r requirements.txt (line 1)) (2.2.0)\n",
      "Requirement already satisfied: asttokens>=2.1.0 in c:\\users\\eavic\\appdata\\local\\programs\\python\\python313\\lib\\site-packages (from stack_data->ipython>=7.23.1->ipykernel>=6.5.0->jupyterlab->-r requirements.txt (line 1)) (3.0.0)\n",
      "Requirement already satisfied: pure-eval in c:\\users\\eavic\\appdata\\local\\programs\\python\\python313\\lib\\site-packages (from stack_data->ipython>=7.23.1->ipykernel>=6.5.0->jupyterlab->-r requirements.txt (line 1)) (0.2.3)\n"
     ]
    }
   ],
   "execution_count": 1
  },
  {
   "metadata": {},
   "cell_type": "markdown",
   "source": "載入需要的Python套件",
   "id": "859cca71d629aacd"
  },
  {
   "metadata": {
    "ExecuteTime": {
     "end_time": "2025-07-26T09:17:03.827983Z",
     "start_time": "2025-07-26T09:17:02.272947Z"
    }
   },
   "cell_type": "code",
   "source": [
    "import pandas as pd\n",
    "\n",
    "## To convert Traditional Chinese to Simplified Chinese\n",
    "from opencc import OpenCC\n",
    "cc = OpenCC('tw2sp')\n",
    "\n",
    "import rpy2.robjects as robjects\n",
    "from rpy2.robjects import pandas2ri\n",
    "\n",
    "## To aid in printing HTML in notebooks\n",
    "import rpy2.ipython.html\n",
    "rpy2.ipython.html.init_printing()\n",
    "\n",
    "## To see plots in an output cell\n",
    "# from rpy2.ipython.ggplot import image_png"
   ],
   "id": "fad47a769bbcdde1",
   "outputs": [
    {
     "name": "stderr",
     "output_type": "stream",
     "text": [
      "Error importing in API mode: ImportError('On Windows, cffi mode \"ANY\" is only \"ABI\".')\n",
      "Trying to import in ABI mode.\n",
      "C:\\Users\\eavic\\AppData\\Local\\Programs\\Python\\Python313\\Lib\\site-packages\\rpy2\\rinterface\\__init__.py:1211: UserWarning: Environment variable \"PATH\" redefined by R and overriding existing variable. Current: \"C:\\Program Files (x86)\\VMware\\VMware Workstation\\bin\\;C:\\Program Files\\Microsoft MPI\\Bin\\;C:\\Program Files\\NVIDIA GPU Computing Toolkit\\CUDA\\v12.1\\bin;C:\\Program Files\\NVIDIA GPU Computing Toolkit\\CUDA\\v12.1\\libnvvp;c:\\windows\\system32;c:\\windows;c:\\windows\\system32\\wbem;c:\\windows\\system32\\windowspowershell\\v1.0\\;c:\\windows\\system32\\openssh\\;c:\\program files\\dotnet\\;c:\\program files\\git\\cmd;C:\\Program Files (x86)\\NVIDIA Corporation\\PhysX\\Common;C:\\Program Files\\NVIDIA Corporation\\Nsight Compute 2023.1.1\\;C:\\WINDOWS\\system32;C:\\WINDOWS;C:\\WINDOWS\\System32\\Wbem;C:\\WINDOWS\\System32\\WindowsPowerShell\\v1.0\\;C:\\WINDOWS\\System32\\OpenSSH\\;C:\\Program Files\\NVIDIA Corporation\\NVIDIA app\\NvDLISR;C:\\Users\\eavic\\AppData\\Local\\Programs\\Python\\Python313\\Scripts\\;C:\\Users\\eavic\\AppData\\Local\\Programs\\Python\\Python313\\;C:\\Users\\eavic\\AppData\\Local\\Microsoft\\WindowsApps;C:\\Program Files (x86)\\FontForgeBuilds\\bin;;C:\\Program Files\\R\\R-4.5.1\\bin\\x64\", R: \"C:\\rtools45/x86_64-w64-mingw32.static.posix/bin;C:\\rtools45/usr/bin;C:\\Program Files (x86)\\VMware\\VMware Workstation\\bin\\;C:\\Program Files\\Microsoft MPI\\Bin\\;C:\\Program Files\\NVIDIA GPU Computing Toolkit\\CUDA\\v12.1\\bin;C:\\Program Files\\NVIDIA GPU Computing Toolkit\\CUDA\\v12.1\\libnvvp;c:\\windows\\system32;c:\\windows;c:\\windows\\system32\\wbem;c:\\windows\\system32\\windowspowershell\\v1.0\\;c:\\windows\\system32\\openssh\\;c:\\program files\\dotnet\\;c:\\program files\\git\\cmd;C:\\Program Files (x86)\\NVIDIA Corporation\\PhysX\\Common;C:\\Program Files\\NVIDIA Corporation\\Nsight Compute 2023.1.1\\;C:\\WINDOWS\\system32;C:\\WINDOWS;C:\\WINDOWS\\System32\\Wbem;C:\\WINDOWS\\System32\\WindowsPowerShell\\v1.0\\;C:\\WINDOWS\\System32\\OpenSSH\\;C:\\Program Files\\NVIDIA Corporation\\NVIDIA app\\NvDLISR;C:\\Users\\eavic\\AppData\\Local\\Programs\\Python\\Python313\\Scripts\\;C:\\Users\\eavic\\AppData\\Local\\Programs\\Python\\Python313\\;C:\\Users\\eavic\\AppData\\Local\\Microsoft\\WindowsApps;C:\\Program Files (x86)\\FontForgeBuilds\\bin;;C:\\Program Files\\R\\R-4.5.1\\bin\\x64\"\n",
      "  warnings.warn(\n",
      "C:\\Users\\eavic\\AppData\\Local\\Programs\\Python\\Python313\\Lib\\site-packages\\rpy2\\rinterface\\__init__.py:1211: UserWarning: Environment variable \"PATH\" redefined by R and overriding existing variable. Current: \"C:\\rtools45/x86_64-w64-mingw32.static.posix/bin;C:\\rtools45/usr/bin;C:\\Program Files (x86)\\VMware\\VMware Workstation\\bin\\;C:\\Program Files\\Microsoft MPI\\Bin\\;C:\\Program Files\\NVIDIA GPU Computing Toolkit\\CUDA\\v12.1\\bin;C:\\Program Files\\NVIDIA GPU Computing Toolkit\\CUDA\\v12.1\\libnvvp;c:\\windows\\system32;c:\\windows;c:\\windows\\system32\\wbem;c:\\windows\\system32\\windowspowershell\\v1.0\\;c:\\windows\\system32\\openssh\\;c:\\program files\\dotnet\\;c:\\program files\\git\\cmd;C:\\Program Files (x86)\\NVIDIA Corporation\\PhysX\\Common;C:\\Program Files\\NVIDIA Corporation\\Nsight Compute 2023.1.1\\;C:\\WINDOWS\\system32;C:\\WINDOWS;C:\\WINDOWS\\System32\\Wbem;C:\\WINDOWS\\System32\\WindowsPowerShell\\v1.0\\;C:\\WINDOWS\\System32\\OpenSSH\\;C:\\Program Files\\NVIDIA Corporation\\NVIDIA app\\NvDLISR;C:\\Users\\eavic\\AppData\\Local\\Programs\\Python\\Python313\\Scripts\\;C:\\Users\\eavic\\AppData\\Local\\Programs\\Python\\Python313\\;C:\\Users\\eavic\\AppData\\Local\\Microsoft\\WindowsApps;C:\\Program Files (x86)\\FontForgeBuilds\\bin;;C:\\Program Files\\R\\R-4.5.1\\bin\\x64\", R: \"C:\\rtools45/x86_64-w64-mingw32.static.posix/bin;C:\\rtools45/usr/bin;C:\\rtools45/x86_64-w64-mingw32.static.posix/bin;C:\\rtools45/usr/bin;C:\\rtools45/x86_64-w64-mingw32.static.posix/bin;C:\\rtools45/usr/bin;C:\\Program Files (x86)\\VMware\\VMware Workstation\\bin\\;C:\\Program Files\\Microsoft MPI\\Bin\\;C:\\Program Files\\NVIDIA GPU Computing Toolkit\\CUDA\\v12.1\\bin;C:\\Program Files\\NVIDIA GPU Computing Toolkit\\CUDA\\v12.1\\libnvvp;c:\\windows\\system32;c:\\windows;c:\\windows\\system32\\wbem;c:\\windows\\system32\\windowspowershell\\v1.0\\;c:\\windows\\system32\\openssh\\;c:\\program files\\dotnet\\;c:\\program files\\git\\cmd;C:\\Program Files (x86)\\NVIDIA Corporation\\PhysX\\Common;C:\\Program Files\\NVIDIA Corporation\\Nsight Compute 2023.1.1\\;C:\\WINDOWS\\system32;C:\\WINDOWS;C:\\WINDOWS\\System32\\Wbem;C:\\WINDOWS\\System32\\WindowsPowerShell\\v1.0\\;C:\\WINDOWS\\System32\\OpenSSH\\;C:\\Program Files\\NVIDIA Corporation\\NVIDIA app\\NvDLISR;C:\\Users\\eavic\\AppData\\Local\\Programs\\Python\\Python313\\Scripts\\;C:\\Users\\eavic\\AppData\\Local\\Programs\\Python\\Python313\\;C:\\Users\\eavic\\AppData\\Local\\Microsoft\\WindowsApps;C:\\Program Files (x86)\\FontForgeBuilds\\bin;;C:\\Program Files\\R\\R-4.5.1\\bin\\x64\"\n",
      "  warnings.warn(\n"
     ]
    }
   ],
   "execution_count": 2
  },
  {
   "metadata": {},
   "cell_type": "markdown",
   "source": "載入需要的R套件 (如果沒安裝則會自動安裝)",
   "id": "7b9dcf1d87d2f883"
  },
  {
   "metadata": {
    "ExecuteTime": {
     "end_time": "2025-07-26T09:17:07.135606Z",
     "start_time": "2025-07-26T09:17:03.837383Z"
    }
   },
   "cell_type": "code",
   "source": [
    "robjects.r('''\n",
    "if(!require(arrow))install.packages(\"arrow\")\n",
    "if(!require(devtools))install.packages(\"devtools\")\n",
    "if(!require(TCMNP))devtools::install_github(\"tcmlab/TCMNP\",upgrade = FALSE,dependencies = TRUE)\n",
    "''')"
   ],
   "id": "fd20b75ed9a3cfed",
   "outputs": [
    {
     "name": "stderr",
     "output_type": "stream",
     "text": [
      "R callback write-console: Loading required package: arrow\n",
      "  \n",
      "R callback write-console: \n",
      "Attaching package: 'arrow'\n",
      "\n",
      "  \n",
      "R callback write-console: The following object is masked from 'package:utils':\n",
      "\n",
      "    timestamp\n",
      "\n",
      "  \n",
      "R callback write-console: Loading required package: devtools\n",
      "  \n",
      "R callback write-console: Loading required package: usethis\n",
      "  \n",
      "R callback write-console: Loading required package: TCMNP\n",
      "  \n"
     ]
    }
   ],
   "execution_count": 3
  },
  {
   "metadata": {},
   "cell_type": "markdown",
   "source": "## 3. 以中藥查詢作用基因&分子",
   "id": "cad09cbd1935501c"
  },
  {
   "metadata": {},
   "cell_type": "markdown",
   "source": [
    "繁體中文轉簡體中文\n",
    "\n",
    "中藥名填在cht_herbs內"
   ],
   "id": "4bd9b00682ae6803"
  },
  {
   "metadata": {
    "ExecuteTime": {
     "end_time": "2025-07-26T09:17:07.146787Z",
     "start_time": "2025-07-26T09:17:07.144236Z"
    }
   },
   "cell_type": "code",
   "source": [
    "cht_herbs = ['麻黃', '甘草','苦杏仁','石膏', '薏苡仁', '蒼朮', '青蒿', '豬苓', '馬鞭草', '葶藶子','橘紅', '虎杖', '廣藿香','蘆根']\n",
    "chs_herbs = []\n",
    "for herb in cht_herbs:\n",
    "    chs_herbs.append(cc.convert(herb))\n",
    "herbs = str(chs_herbs)[1:-1]  # 去頭去尾"
   ],
   "id": "c203013c5a913a25",
   "outputs": [],
   "execution_count": 4
  },
  {
   "metadata": {},
   "cell_type": "markdown",
   "source": "查詢，如果有不在資料庫內的中藥會有訊息提醒",
   "id": "2058991134bebfcb"
  },
  {
   "metadata": {
    "ExecuteTime": {
     "end_time": "2025-07-26T09:17:07.683396Z",
     "start_time": "2025-07-26T09:17:07.155880Z"
    }
   },
   "cell_type": "code",
   "source": [
    "rpy2_df = robjects.r(f'''\n",
    "herbs <- c({herbs})\n",
    "herb_target(herbs, type = \"Herb_cn_name\")\n",
    "''')"
   ],
   "id": "910b01d7601fcf38",
   "outputs": [
    {
     "name": "stdout",
     "output_type": "stream",
     "text": [
      "[1] \"石膏 is/are not in the datasets.\"\n"
     ]
    }
   ],
   "execution_count": 5
  },
  {
   "metadata": {},
   "cell_type": "markdown",
   "source": "把查詢到的 R DataFrame 轉換成 Pandas DataFrame",
   "id": "41015944649b6992"
  },
  {
   "metadata": {
    "ExecuteTime": {
     "end_time": "2025-07-26T09:17:07.777172Z",
     "start_time": "2025-07-26T09:17:07.693597Z"
    }
   },
   "cell_type": "code",
   "source": [
    "with (robjects.default_converter + pandas2ri.converter).context():\n",
    "    df = robjects.conversion.get_conversion().rpy2py(rpy2_df)\n",
    "type(df)"
   ],
   "id": "6a5ee8a90b9f1102",
   "outputs": [
    {
     "data": {
      "text/plain": [
       "pandas.core.frame.DataFrame"
      ]
     },
     "execution_count": 6,
     "metadata": {},
     "output_type": "execute_result"
    }
   ],
   "execution_count": 6
  },
  {
   "metadata": {},
   "cell_type": "markdown",
   "source": "資料列標題",
   "id": "566b8452eebfab7"
  },
  {
   "metadata": {
    "ExecuteTime": {
     "end_time": "2025-07-26T09:17:08.053616Z",
     "start_time": "2025-07-26T09:17:08.050676Z"
    }
   },
   "cell_type": "code",
   "source": "df.columns",
   "id": "96d46a3970bbb4f6",
   "outputs": [
    {
     "data": {
      "text/plain": [
       "Index(['herb', 'molecule_id', 'molecule', 'target'], dtype='object')"
      ]
     },
     "execution_count": 7,
     "metadata": {},
     "output_type": "execute_result"
    }
   ],
   "execution_count": 7
  },
  {
   "metadata": {},
   "cell_type": "markdown",
   "source": "資料表大小(行數, 列數)",
   "id": "35592df2943909fe"
  },
  {
   "metadata": {
    "ExecuteTime": {
     "end_time": "2025-07-26T09:17:08.092277Z",
     "start_time": "2025-07-26T09:17:08.089492Z"
    }
   },
   "cell_type": "code",
   "source": "df.shape",
   "id": "158ed2aeaaa253d1",
   "outputs": [
    {
     "data": {
      "text/plain": [
       "(10937, 4)"
      ]
     },
     "execution_count": 8,
     "metadata": {},
     "output_type": "execute_result"
    }
   ],
   "execution_count": 8
  },
  {
   "metadata": {},
   "cell_type": "markdown",
   "source": "開頭5筆資料",
   "id": "749c839de494b4ec"
  },
  {
   "metadata": {
    "ExecuteTime": {
     "end_time": "2025-07-26T09:17:08.133664Z",
     "start_time": "2025-07-26T09:17:08.128297Z"
    }
   },
   "cell_type": "code",
   "source": "df.head()",
   "id": "a91924c5893bd88d",
   "outputs": [
    {
     "data": {
      "text/plain": [
       "       herb molecule_id  molecule target\n",
       "1  cang zhu     wogonin  tcm01563   NOS2\n",
       "2  cang zhu     wogonin  tcm01563  PTGS1\n",
       "3  cang zhu     wogonin  tcm01563   ESR1\n",
       "4  cang zhu     wogonin  tcm01563     AR\n",
       "5  cang zhu     wogonin  tcm01563  SCN5A"
      ],
      "text/html": [
       "<div>\n",
       "<style scoped>\n",
       "    .dataframe tbody tr th:only-of-type {\n",
       "        vertical-align: middle;\n",
       "    }\n",
       "\n",
       "    .dataframe tbody tr th {\n",
       "        vertical-align: top;\n",
       "    }\n",
       "\n",
       "    .dataframe thead th {\n",
       "        text-align: right;\n",
       "    }\n",
       "</style>\n",
       "<table border=\"1\" class=\"dataframe\">\n",
       "  <thead>\n",
       "    <tr style=\"text-align: right;\">\n",
       "      <th></th>\n",
       "      <th>herb</th>\n",
       "      <th>molecule_id</th>\n",
       "      <th>molecule</th>\n",
       "      <th>target</th>\n",
       "    </tr>\n",
       "  </thead>\n",
       "  <tbody>\n",
       "    <tr>\n",
       "      <th>1</th>\n",
       "      <td>cang zhu</td>\n",
       "      <td>wogonin</td>\n",
       "      <td>tcm01563</td>\n",
       "      <td>NOS2</td>\n",
       "    </tr>\n",
       "    <tr>\n",
       "      <th>2</th>\n",
       "      <td>cang zhu</td>\n",
       "      <td>wogonin</td>\n",
       "      <td>tcm01563</td>\n",
       "      <td>PTGS1</td>\n",
       "    </tr>\n",
       "    <tr>\n",
       "      <th>3</th>\n",
       "      <td>cang zhu</td>\n",
       "      <td>wogonin</td>\n",
       "      <td>tcm01563</td>\n",
       "      <td>ESR1</td>\n",
       "    </tr>\n",
       "    <tr>\n",
       "      <th>4</th>\n",
       "      <td>cang zhu</td>\n",
       "      <td>wogonin</td>\n",
       "      <td>tcm01563</td>\n",
       "      <td>AR</td>\n",
       "    </tr>\n",
       "    <tr>\n",
       "      <th>5</th>\n",
       "      <td>cang zhu</td>\n",
       "      <td>wogonin</td>\n",
       "      <td>tcm01563</td>\n",
       "      <td>SCN5A</td>\n",
       "    </tr>\n",
       "  </tbody>\n",
       "</table>\n",
       "</div>"
      ]
     },
     "execution_count": 9,
     "metadata": {},
     "output_type": "execute_result"
    }
   ],
   "execution_count": 9
  },
  {
   "metadata": {},
   "cell_type": "markdown",
   "source": "匯出成Excel(CSV會亂碼)",
   "id": "b8d191097e08295d"
  },
  {
   "metadata": {
    "ExecuteTime": {
     "end_time": "2025-07-26T09:17:09.147636Z",
     "start_time": "2025-07-26T09:17:08.235199Z"
    }
   },
   "cell_type": "code",
   "source": "df.to_excel('1_中藥查詢.xlsx')",
   "id": "ece260d20e1e4f5d",
   "outputs": [],
   "execution_count": 10
  },
  {
   "metadata": {},
   "cell_type": "markdown",
   "source": "##  4. 以基因查詢中藥",
   "id": "b1564d8a16540022"
  },
  {
   "metadata": {},
   "cell_type": "markdown",
   "source": "基因名稱填在target_genes內",
   "id": "78c021330c9592c2"
  },
  {
   "metadata": {
    "ExecuteTime": {
     "end_time": "2025-07-26T09:17:09.227810Z",
     "start_time": "2025-07-26T09:17:09.225191Z"
    }
   },
   "cell_type": "code",
   "source": [
    "target_genes = ['MAPK1', 'JUN', 'FOS', 'RAC1', 'IL1', 'IL6']\n",
    "genes = str(target_genes)[1:-1]  # 去頭去尾"
   ],
   "id": "eb259d5b09021b32",
   "outputs": [],
   "execution_count": 11
  },
  {
   "metadata": {},
   "cell_type": "markdown",
   "source": "查詢，沒在資料庫內的基因會有訊息提醒",
   "id": "7a6e4760b4fd9954"
  },
  {
   "metadata": {
    "ExecuteTime": {
     "end_time": "2025-07-26T09:17:09.329018Z",
     "start_time": "2025-07-26T09:17:09.302669Z"
    }
   },
   "cell_type": "code",
   "source": [
    "rpy2_df2 = robjects.r(f'''\n",
    "gene <- c({genes})\n",
    "target_herb(gene)\n",
    "''')"
   ],
   "id": "a6c8bb1f56027b02",
   "outputs": [
    {
     "name": "stdout",
     "output_type": "stream",
     "text": [
      "[1] \"IL1 is/are not in the datasets.\"\n"
     ]
    }
   ],
   "execution_count": 12
  },
  {
   "metadata": {},
   "cell_type": "markdown",
   "source": "把查詢到的 R DataFrame 轉換成 Pandas DataFrame",
   "id": "f8c81c26ebfa4066"
  },
  {
   "metadata": {
    "ExecuteTime": {
     "end_time": "2025-07-26T09:17:09.386705Z",
     "start_time": "2025-07-26T09:17:09.363194Z"
    }
   },
   "cell_type": "code",
   "source": [
    "with (robjects.default_converter + pandas2ri.converter).context():\n",
    "    df2 = robjects.conversion.get_conversion().rpy2py(rpy2_df2)\n",
    "type(df2)"
   ],
   "id": "6988fecdaa475ce5",
   "outputs": [
    {
     "data": {
      "text/plain": [
       "pandas.core.frame.DataFrame"
      ]
     },
     "execution_count": 13,
     "metadata": {},
     "output_type": "execute_result"
    }
   ],
   "execution_count": 13
  },
  {
   "metadata": {},
   "cell_type": "markdown",
   "source": "資料列標題",
   "id": "bd956cc1539389ba"
  },
  {
   "metadata": {
    "ExecuteTime": {
     "end_time": "2025-07-26T09:17:09.422536Z",
     "start_time": "2025-07-26T09:17:09.419431Z"
    }
   },
   "cell_type": "code",
   "source": "df2.columns",
   "id": "efcfd7f6191d543b",
   "outputs": [
    {
     "data": {
      "text/plain": [
       "Index(['herb', 'molecule_id', 'molecule', 'target'], dtype='object')"
      ]
     },
     "execution_count": 14,
     "metadata": {},
     "output_type": "execute_result"
    }
   ],
   "execution_count": 14
  },
  {
   "metadata": {},
   "cell_type": "markdown",
   "source": "資料表大小(行數, 列數)",
   "id": "112ee5da032535ef"
  },
  {
   "metadata": {
    "ExecuteTime": {
     "end_time": "2025-07-26T09:17:09.460354Z",
     "start_time": "2025-07-26T09:17:09.457051Z"
    }
   },
   "cell_type": "code",
   "source": "df2.shape",
   "id": "be8ba1c5ba0972c0",
   "outputs": [
    {
     "data": {
      "text/plain": [
       "(2365, 4)"
      ]
     },
     "execution_count": 15,
     "metadata": {},
     "output_type": "execute_result"
    }
   ],
   "execution_count": 15
  },
  {
   "metadata": {},
   "cell_type": "markdown",
   "source": "開頭5筆資料",
   "id": "902fa9472ff92c5d"
  },
  {
   "metadata": {
    "ExecuteTime": {
     "end_time": "2025-07-26T09:17:09.500076Z",
     "start_time": "2025-07-26T09:17:09.495010Z"
    }
   },
   "cell_type": "code",
   "source": "df2.head()",
   "id": "e512374d4f3ca4d0",
   "outputs": [
    {
     "data": {
      "text/plain": [
       "        herb molecule_id  molecule target\n",
       "1  ai di cha  kaempferol  tcm00154    JUN\n",
       "2  ai di cha   quercetin  tcm00192    FOS\n",
       "3  ai di cha   quercetin  tcm00192  MAPK1\n",
       "4  ai di cha   quercetin  tcm00192    JUN\n",
       "5  ai di cha   quercetin  tcm00192    IL6"
      ],
      "text/html": [
       "<div>\n",
       "<style scoped>\n",
       "    .dataframe tbody tr th:only-of-type {\n",
       "        vertical-align: middle;\n",
       "    }\n",
       "\n",
       "    .dataframe tbody tr th {\n",
       "        vertical-align: top;\n",
       "    }\n",
       "\n",
       "    .dataframe thead th {\n",
       "        text-align: right;\n",
       "    }\n",
       "</style>\n",
       "<table border=\"1\" class=\"dataframe\">\n",
       "  <thead>\n",
       "    <tr style=\"text-align: right;\">\n",
       "      <th></th>\n",
       "      <th>herb</th>\n",
       "      <th>molecule_id</th>\n",
       "      <th>molecule</th>\n",
       "      <th>target</th>\n",
       "    </tr>\n",
       "  </thead>\n",
       "  <tbody>\n",
       "    <tr>\n",
       "      <th>1</th>\n",
       "      <td>ai di cha</td>\n",
       "      <td>kaempferol</td>\n",
       "      <td>tcm00154</td>\n",
       "      <td>JUN</td>\n",
       "    </tr>\n",
       "    <tr>\n",
       "      <th>2</th>\n",
       "      <td>ai di cha</td>\n",
       "      <td>quercetin</td>\n",
       "      <td>tcm00192</td>\n",
       "      <td>FOS</td>\n",
       "    </tr>\n",
       "    <tr>\n",
       "      <th>3</th>\n",
       "      <td>ai di cha</td>\n",
       "      <td>quercetin</td>\n",
       "      <td>tcm00192</td>\n",
       "      <td>MAPK1</td>\n",
       "    </tr>\n",
       "    <tr>\n",
       "      <th>4</th>\n",
       "      <td>ai di cha</td>\n",
       "      <td>quercetin</td>\n",
       "      <td>tcm00192</td>\n",
       "      <td>JUN</td>\n",
       "    </tr>\n",
       "    <tr>\n",
       "      <th>5</th>\n",
       "      <td>ai di cha</td>\n",
       "      <td>quercetin</td>\n",
       "      <td>tcm00192</td>\n",
       "      <td>IL6</td>\n",
       "    </tr>\n",
       "  </tbody>\n",
       "</table>\n",
       "</div>"
      ]
     },
     "execution_count": 16,
     "metadata": {},
     "output_type": "execute_result"
    }
   ],
   "execution_count": 16
  },
  {
   "metadata": {},
   "cell_type": "markdown",
   "source": "匯出成Excel(CSV會亂碼)",
   "id": "f7977d486d051b3"
  },
  {
   "metadata": {
    "ExecuteTime": {
     "end_time": "2025-07-26T09:17:09.752730Z",
     "start_time": "2025-07-26T09:17:09.556329Z"
    }
   },
   "cell_type": "code",
   "source": "df2.to_excel('2_基因查詢.xlsx')",
   "id": "7215a624d096b0b8",
   "outputs": [],
   "execution_count": 17
  },
  {
   "metadata": {},
   "cell_type": "markdown",
   "source": "## 5. 資料庫內所有基因靶點的列表",
   "id": "2fee7d878e1713bc"
  },
  {
   "metadata": {
    "ExecuteTime": {
     "end_time": "2025-07-26T09:17:09.820350Z",
     "start_time": "2025-07-26T09:17:09.808533Z"
    }
   },
   "cell_type": "code",
   "source": [
    "with (robjects.default_converter + pandas2ri.converter).context():\n",
    "    rpy2_df3 = robjects.r('''disease_data''')\n",
    "    df3 = robjects.conversion.get_conversion().rpy2py(rpy2_df3)\n",
    "df3"
   ],
   "id": "d93068cebf3ba01",
   "outputs": [
    {
     "data": {
      "text/plain": [
       "                  .\n",
       "1    RPL17-C18orf32\n",
       "2    RPL36A-HNRNPH2\n",
       "3       RPS10-NUDT3\n",
       "4      LOC102723407\n",
       "5              ADAR\n",
       "..              ...\n",
       "786         SLC39A8\n",
       "787        RABGAP1L\n",
       "788            TGM2\n",
       "789            AGER\n",
       "790            ETV4\n",
       "\n",
       "[790 rows x 1 columns]"
      ],
      "text/html": [
       "<div>\n",
       "<style scoped>\n",
       "    .dataframe tbody tr th:only-of-type {\n",
       "        vertical-align: middle;\n",
       "    }\n",
       "\n",
       "    .dataframe tbody tr th {\n",
       "        vertical-align: top;\n",
       "    }\n",
       "\n",
       "    .dataframe thead th {\n",
       "        text-align: right;\n",
       "    }\n",
       "</style>\n",
       "<table border=\"1\" class=\"dataframe\">\n",
       "  <thead>\n",
       "    <tr style=\"text-align: right;\">\n",
       "      <th></th>\n",
       "      <th>.</th>\n",
       "    </tr>\n",
       "  </thead>\n",
       "  <tbody>\n",
       "    <tr>\n",
       "      <th>1</th>\n",
       "      <td>RPL17-C18orf32</td>\n",
       "    </tr>\n",
       "    <tr>\n",
       "      <th>2</th>\n",
       "      <td>RPL36A-HNRNPH2</td>\n",
       "    </tr>\n",
       "    <tr>\n",
       "      <th>3</th>\n",
       "      <td>RPS10-NUDT3</td>\n",
       "    </tr>\n",
       "    <tr>\n",
       "      <th>4</th>\n",
       "      <td>LOC102723407</td>\n",
       "    </tr>\n",
       "    <tr>\n",
       "      <th>5</th>\n",
       "      <td>ADAR</td>\n",
       "    </tr>\n",
       "    <tr>\n",
       "      <th>...</th>\n",
       "      <td>...</td>\n",
       "    </tr>\n",
       "    <tr>\n",
       "      <th>786</th>\n",
       "      <td>SLC39A8</td>\n",
       "    </tr>\n",
       "    <tr>\n",
       "      <th>787</th>\n",
       "      <td>RABGAP1L</td>\n",
       "    </tr>\n",
       "    <tr>\n",
       "      <th>788</th>\n",
       "      <td>TGM2</td>\n",
       "    </tr>\n",
       "    <tr>\n",
       "      <th>789</th>\n",
       "      <td>AGER</td>\n",
       "    </tr>\n",
       "    <tr>\n",
       "      <th>790</th>\n",
       "      <td>ETV4</td>\n",
       "    </tr>\n",
       "  </tbody>\n",
       "</table>\n",
       "<p>790 rows × 1 columns</p>\n",
       "</div>"
      ]
     },
     "execution_count": 18,
     "metadata": {},
     "output_type": "execute_result"
    }
   ],
   "execution_count": 18
  },
  {
   "metadata": {},
   "cell_type": "markdown",
   "source": "## 6. 利用疾病靶點基因查詢中藥及其處方，[[1]]：中藥 [[2]]：方劑",
   "id": "b8177d1a1dd8ce39"
  },
  {
   "metadata": {
    "ExecuteTime": {
     "end_time": "2025-07-26T09:17:10.059332Z",
     "start_time": "2025-07-26T09:17:09.909427Z"
    }
   },
   "cell_type": "code",
   "source": [
    "with (robjects.default_converter + pandas2ri.converter).context():\n",
    "    rpy2_df4 = robjects.r('''\n",
    "    tcm_prescription(disease_data)[[1]]\n",
    "    ''')\n",
    "    df4 = robjects.conversion.get_conversion().rpy2py(rpy2_df4)\n",
    "    df4.to_excel('3_基因查詢中藥.xlsx')\n",
    "df4"
   ],
   "id": "23db533395ebda42",
   "outputs": [
    {
     "data": {
      "text/plain": [
       "    Herb_cn_name  freq\n",
       "1             人参   437\n",
       "2             甘草   433\n",
       "3            胡芦巴   325\n",
       "4            皂角刺   288\n",
       "5             地榆   276\n",
       "..           ...   ...\n",
       "269          肉豆蔻    53\n",
       "270          浙贝母    53\n",
       "271           草果    51\n",
       "272           赤芍    51\n",
       "273          绞股蓝    51\n",
       "\n",
       "[273 rows x 2 columns]"
      ],
      "text/html": [
       "<div>\n",
       "<style scoped>\n",
       "    .dataframe tbody tr th:only-of-type {\n",
       "        vertical-align: middle;\n",
       "    }\n",
       "\n",
       "    .dataframe tbody tr th {\n",
       "        vertical-align: top;\n",
       "    }\n",
       "\n",
       "    .dataframe thead th {\n",
       "        text-align: right;\n",
       "    }\n",
       "</style>\n",
       "<table border=\"1\" class=\"dataframe\">\n",
       "  <thead>\n",
       "    <tr style=\"text-align: right;\">\n",
       "      <th></th>\n",
       "      <th>Herb_cn_name</th>\n",
       "      <th>freq</th>\n",
       "    </tr>\n",
       "  </thead>\n",
       "  <tbody>\n",
       "    <tr>\n",
       "      <th>1</th>\n",
       "      <td>人参</td>\n",
       "      <td>437</td>\n",
       "    </tr>\n",
       "    <tr>\n",
       "      <th>2</th>\n",
       "      <td>甘草</td>\n",
       "      <td>433</td>\n",
       "    </tr>\n",
       "    <tr>\n",
       "      <th>3</th>\n",
       "      <td>胡芦巴</td>\n",
       "      <td>325</td>\n",
       "    </tr>\n",
       "    <tr>\n",
       "      <th>4</th>\n",
       "      <td>皂角刺</td>\n",
       "      <td>288</td>\n",
       "    </tr>\n",
       "    <tr>\n",
       "      <th>5</th>\n",
       "      <td>地榆</td>\n",
       "      <td>276</td>\n",
       "    </tr>\n",
       "    <tr>\n",
       "      <th>...</th>\n",
       "      <td>...</td>\n",
       "      <td>...</td>\n",
       "    </tr>\n",
       "    <tr>\n",
       "      <th>269</th>\n",
       "      <td>肉豆蔻</td>\n",
       "      <td>53</td>\n",
       "    </tr>\n",
       "    <tr>\n",
       "      <th>270</th>\n",
       "      <td>浙贝母</td>\n",
       "      <td>53</td>\n",
       "    </tr>\n",
       "    <tr>\n",
       "      <th>271</th>\n",
       "      <td>草果</td>\n",
       "      <td>51</td>\n",
       "    </tr>\n",
       "    <tr>\n",
       "      <th>272</th>\n",
       "      <td>赤芍</td>\n",
       "      <td>51</td>\n",
       "    </tr>\n",
       "    <tr>\n",
       "      <th>273</th>\n",
       "      <td>绞股蓝</td>\n",
       "      <td>51</td>\n",
       "    </tr>\n",
       "  </tbody>\n",
       "</table>\n",
       "<p>273 rows × 2 columns</p>\n",
       "</div>"
      ]
     },
     "execution_count": 19,
     "metadata": {},
     "output_type": "execute_result"
    }
   ],
   "execution_count": 19
  },
  {
   "metadata": {
    "ExecuteTime": {
     "end_time": "2025-07-26T09:17:10.324694Z",
     "start_time": "2025-07-26T09:17:10.198571Z"
    }
   },
   "cell_type": "code",
   "source": [
    "with (robjects.default_converter + pandas2ri.converter).context():\n",
    "    rpy2_df5 = robjects.r('''\n",
    "    tcm_prescription(disease_data)[[2]]\n",
    "    ''')\n",
    "    df5 = robjects.conversion.get_conversion().rpy2py(rpy2_df5)\n",
    "    df5.replace({'&nbsp;': ' '}, regex=True, inplace=True)  # 取代NBSP不換行空白標籤，修正匯出時造成易讀性的問題\n",
    "    df5.to_excel('4_基因查詢方劑.xlsx')\n",
    "df5"
   ],
   "id": "1d04fe4eee88c77",
   "outputs": [
    {
     "data": {
      "text/plain": [
       "                         CompoundId   Pvalue  OddsRatio  ExpCount  Count  \\\n",
       "1            sheng yang yi wei tang  0.09939       1.45      6.22    9.0   \n",
       "2                        bai du san  0.03958       1.67      4.78    8.0   \n",
       "3   chai ge jie ji tang （ tao shi ）  0.00259       2.09      3.82    8.0   \n",
       "4              jing fang bai du san  0.03958       1.67      4.78    8.0   \n",
       "5                      cang lin san  0.22507       1.33      5.26    7.0   \n",
       "..                              ...      ...        ...       ...    ...   \n",
       "85              hua shi bai du fang  0.00093       1.93      6.22   12.0   \n",
       "86             qing fei pai du tang  0.12953       1.32      9.08   12.0   \n",
       "87              chai ge jie ji tang  0.01247       1.74      5.74   10.0   \n",
       "88             xuan fei bai du fang  0.01247       1.74      5.74   10.0   \n",
       "89                       si wu tang  0.96190       0.42      2.39    1.0   \n",
       "\n",
       "    Size  p.adjust                                    herb  \n",
       "1   13.0     0.516              黄芪/半夏/人参/防风/白芍/羌活/茯苓/柴胡/黄连  \n",
       "2   10.0     0.430                 柴胡/前胡/枳壳/羌活/茯苓/桔梗/人参/甘草  \n",
       "3    8.0     0.115                 柴胡/葛根/甘草/黄芩/羌活/白芷/白芍/桔梗  \n",
       "4   10.0     0.430                 羌活/柴胡/前胡/枳壳/茯苓/荆芥/防风/桔梗  \n",
       "5   11.0     0.668                    人参/茯苓/前胡/羌活/桔梗/枳壳/柴胡  \n",
       "..   ...       ...                                     ...  \n",
       "85  13.0     0.083  麻黄/苦杏仁/甘草/苍术/草果/半夏/茯苓/黄芪/葶苈子/赤芍/广藿香/大黄  \n",
       "86  19.0     0.549  麻黄/苦杏仁/茯苓/柴胡/黄芩/半夏/紫菀/款冬花/射干/山药/枳实/广藿香  \n",
       "87  12.0     0.277          柴胡/葛根/黄芩/羌活/白芷/白芍/桔梗/赤芍/知母/牡丹皮  \n",
       "88  12.0     0.277      麻黄/苦杏仁/苍术/广藿香/青蒿/马鞭草/葶苈子/化橘红/甘草/虎杖  \n",
       "89   5.0     0.962                                      白芍  \n",
       "\n",
       "[89 rows x 8 columns]"
      ],
      "text/html": [
       "<div>\n",
       "<style scoped>\n",
       "    .dataframe tbody tr th:only-of-type {\n",
       "        vertical-align: middle;\n",
       "    }\n",
       "\n",
       "    .dataframe tbody tr th {\n",
       "        vertical-align: top;\n",
       "    }\n",
       "\n",
       "    .dataframe thead th {\n",
       "        text-align: right;\n",
       "    }\n",
       "</style>\n",
       "<table border=\"1\" class=\"dataframe\">\n",
       "  <thead>\n",
       "    <tr style=\"text-align: right;\">\n",
       "      <th></th>\n",
       "      <th>CompoundId</th>\n",
       "      <th>Pvalue</th>\n",
       "      <th>OddsRatio</th>\n",
       "      <th>ExpCount</th>\n",
       "      <th>Count</th>\n",
       "      <th>Size</th>\n",
       "      <th>p.adjust</th>\n",
       "      <th>herb</th>\n",
       "    </tr>\n",
       "  </thead>\n",
       "  <tbody>\n",
       "    <tr>\n",
       "      <th>1</th>\n",
       "      <td>sheng yang yi wei tang</td>\n",
       "      <td>0.09939</td>\n",
       "      <td>1.45</td>\n",
       "      <td>6.22</td>\n",
       "      <td>9.0</td>\n",
       "      <td>13.0</td>\n",
       "      <td>0.516</td>\n",
       "      <td>黄芪/半夏/人参/防风/白芍/羌活/茯苓/柴胡/黄连</td>\n",
       "    </tr>\n",
       "    <tr>\n",
       "      <th>2</th>\n",
       "      <td>bai du san</td>\n",
       "      <td>0.03958</td>\n",
       "      <td>1.67</td>\n",
       "      <td>4.78</td>\n",
       "      <td>8.0</td>\n",
       "      <td>10.0</td>\n",
       "      <td>0.430</td>\n",
       "      <td>柴胡/前胡/枳壳/羌活/茯苓/桔梗/人参/甘草</td>\n",
       "    </tr>\n",
       "    <tr>\n",
       "      <th>3</th>\n",
       "      <td>chai ge jie ji tang （ tao shi ）</td>\n",
       "      <td>0.00259</td>\n",
       "      <td>2.09</td>\n",
       "      <td>3.82</td>\n",
       "      <td>8.0</td>\n",
       "      <td>8.0</td>\n",
       "      <td>0.115</td>\n",
       "      <td>柴胡/葛根/甘草/黄芩/羌活/白芷/白芍/桔梗</td>\n",
       "    </tr>\n",
       "    <tr>\n",
       "      <th>4</th>\n",
       "      <td>jing fang bai du san</td>\n",
       "      <td>0.03958</td>\n",
       "      <td>1.67</td>\n",
       "      <td>4.78</td>\n",
       "      <td>8.0</td>\n",
       "      <td>10.0</td>\n",
       "      <td>0.430</td>\n",
       "      <td>羌活/柴胡/前胡/枳壳/茯苓/荆芥/防风/桔梗</td>\n",
       "    </tr>\n",
       "    <tr>\n",
       "      <th>5</th>\n",
       "      <td>cang lin san</td>\n",
       "      <td>0.22507</td>\n",
       "      <td>1.33</td>\n",
       "      <td>5.26</td>\n",
       "      <td>7.0</td>\n",
       "      <td>11.0</td>\n",
       "      <td>0.668</td>\n",
       "      <td>人参/茯苓/前胡/羌活/桔梗/枳壳/柴胡</td>\n",
       "    </tr>\n",
       "    <tr>\n",
       "      <th>...</th>\n",
       "      <td>...</td>\n",
       "      <td>...</td>\n",
       "      <td>...</td>\n",
       "      <td>...</td>\n",
       "      <td>...</td>\n",
       "      <td>...</td>\n",
       "      <td>...</td>\n",
       "      <td>...</td>\n",
       "    </tr>\n",
       "    <tr>\n",
       "      <th>85</th>\n",
       "      <td>hua shi bai du fang</td>\n",
       "      <td>0.00093</td>\n",
       "      <td>1.93</td>\n",
       "      <td>6.22</td>\n",
       "      <td>12.0</td>\n",
       "      <td>13.0</td>\n",
       "      <td>0.083</td>\n",
       "      <td>麻黄/苦杏仁/甘草/苍术/草果/半夏/茯苓/黄芪/葶苈子/赤芍/广藿香/大黄</td>\n",
       "    </tr>\n",
       "    <tr>\n",
       "      <th>86</th>\n",
       "      <td>qing fei pai du tang</td>\n",
       "      <td>0.12953</td>\n",
       "      <td>1.32</td>\n",
       "      <td>9.08</td>\n",
       "      <td>12.0</td>\n",
       "      <td>19.0</td>\n",
       "      <td>0.549</td>\n",
       "      <td>麻黄/苦杏仁/茯苓/柴胡/黄芩/半夏/紫菀/款冬花/射干/山药/枳实/广藿香</td>\n",
       "    </tr>\n",
       "    <tr>\n",
       "      <th>87</th>\n",
       "      <td>chai ge jie ji tang</td>\n",
       "      <td>0.01247</td>\n",
       "      <td>1.74</td>\n",
       "      <td>5.74</td>\n",
       "      <td>10.0</td>\n",
       "      <td>12.0</td>\n",
       "      <td>0.277</td>\n",
       "      <td>柴胡/葛根/黄芩/羌活/白芷/白芍/桔梗/赤芍/知母/牡丹皮</td>\n",
       "    </tr>\n",
       "    <tr>\n",
       "      <th>88</th>\n",
       "      <td>xuan fei bai du fang</td>\n",
       "      <td>0.01247</td>\n",
       "      <td>1.74</td>\n",
       "      <td>5.74</td>\n",
       "      <td>10.0</td>\n",
       "      <td>12.0</td>\n",
       "      <td>0.277</td>\n",
       "      <td>麻黄/苦杏仁/苍术/广藿香/青蒿/马鞭草/葶苈子/化橘红/甘草/虎杖</td>\n",
       "    </tr>\n",
       "    <tr>\n",
       "      <th>89</th>\n",
       "      <td>si wu tang</td>\n",
       "      <td>0.96190</td>\n",
       "      <td>0.42</td>\n",
       "      <td>2.39</td>\n",
       "      <td>1.0</td>\n",
       "      <td>5.0</td>\n",
       "      <td>0.962</td>\n",
       "      <td>白芍</td>\n",
       "    </tr>\n",
       "  </tbody>\n",
       "</table>\n",
       "<p>89 rows × 8 columns</p>\n",
       "</div>"
      ]
     },
     "execution_count": 20,
     "metadata": {},
     "output_type": "execute_result"
    }
   ],
   "execution_count": 20
  },
  {
   "metadata": {},
   "cell_type": "markdown",
   "source": "## 7. 自己建立疾病標靶點基因查詢中藥和方劑 (R會報錯)",
   "id": "d3b4bda6cba6f8c5"
  },
  {
   "metadata": {},
   "cell_type": "markdown",
   "source": "建立查詢列表，模仿內建資料集的結構",
   "id": "2022e11f0a8d320d"
  },
  {
   "metadata": {
    "ExecuteTime": {
     "end_time": "2025-07-26T09:17:10.424100Z",
     "start_time": "2025-07-26T09:17:10.418656Z"
    }
   },
   "cell_type": "code",
   "source": [
    "search_gene_targets = {'.': ['ADAR', 'RPL36A-HNRNPH2', 'AGER']}\n",
    "search_df = pd.DataFrame(search_gene_targets, index=None)\n",
    "search_df"
   ],
   "id": "fb85da3d9eb63253",
   "outputs": [
    {
     "data": {
      "text/plain": [
       "                .\n",
       "0            ADAR\n",
       "1  RPL36A-HNRNPH2\n",
       "2            AGER"
      ],
      "text/html": [
       "<div>\n",
       "<style scoped>\n",
       "    .dataframe tbody tr th:only-of-type {\n",
       "        vertical-align: middle;\n",
       "    }\n",
       "\n",
       "    .dataframe tbody tr th {\n",
       "        vertical-align: top;\n",
       "    }\n",
       "\n",
       "    .dataframe thead th {\n",
       "        text-align: right;\n",
       "    }\n",
       "</style>\n",
       "<table border=\"1\" class=\"dataframe\">\n",
       "  <thead>\n",
       "    <tr style=\"text-align: right;\">\n",
       "      <th></th>\n",
       "      <th>.</th>\n",
       "    </tr>\n",
       "  </thead>\n",
       "  <tbody>\n",
       "    <tr>\n",
       "      <th>0</th>\n",
       "      <td>ADAR</td>\n",
       "    </tr>\n",
       "    <tr>\n",
       "      <th>1</th>\n",
       "      <td>RPL36A-HNRNPH2</td>\n",
       "    </tr>\n",
       "    <tr>\n",
       "      <th>2</th>\n",
       "      <td>AGER</td>\n",
       "    </tr>\n",
       "  </tbody>\n",
       "</table>\n",
       "</div>"
      ]
     },
     "execution_count": 21,
     "metadata": {},
     "output_type": "execute_result"
    }
   ],
   "execution_count": 21
  },
  {
   "metadata": {
    "ExecuteTime": {
     "end_time": "2025-07-26T09:17:10.570591Z",
     "start_time": "2025-07-26T09:17:10.564857Z"
    }
   },
   "cell_type": "code",
   "source": [
    "with (robjects.default_converter + pandas2ri.converter).context():\n",
    "    rpy2_search_df = robjects.conversion.get_conversion().py2rpy(search_df)\n",
    "rpy2_search_df"
   ],
   "id": "360609a814dede85",
   "outputs": [
    {
     "data": {
      "text/plain": [
       "<rpy2.robjects.vectors.DataFrame object at 0x0000015E43550590> [19]\n",
       "R classes: ('data.frame',)\n",
       "[StrSexpVector]\n",
       "  .: <class 'rpy2.rinterface_lib.sexp.StrSexpVector'>\n",
       "  <rpy2.rinterface_lib.sexp.StrSexpVector object at 0x0000015E43553AD0> [16]"
      ],
      "text/html": [
       "\n",
       "<emph>DataFrame</emph> with 3 rows and\n",
       "  1 columns:\n",
       "<table class=\"rpy2_table\">\n",
       "  <thead>\n",
       "    <tr class=\"rpy2_names\">\n",
       "      <th></th>\n",
       "      <th></th>\n",
       "      <th>.</th>\n",
       "    </tr>\n",
       "  </thead>\n",
       "  <tbody>\n",
       "    <tr>\n",
       "      <td class=\"rpy2_rowname\">0</td>\n",
       "        <td class=\"rpy2_names\">0</td>\n",
       "      <td>ADAR</td>\n",
       "    </tr>\n",
       "    <tr>\n",
       "      <td class=\"rpy2_rowname\">1</td>\n",
       "        <td class=\"rpy2_names\">1</td>\n",
       "      <td>RPL36A-HNRNPH2</td>\n",
       "    </tr>\n",
       "    <tr>\n",
       "      <td class=\"rpy2_rowname\">2</td>\n",
       "        <td class=\"rpy2_names\">2</td>\n",
       "      <td>AGER</td>\n",
       "    </tr>\n",
       "  </tbody>\n",
       "</table>"
      ]
     },
     "execution_count": 22,
     "metadata": {},
     "output_type": "execute_result"
    }
   ],
   "execution_count": 22
  },
  {
   "metadata": {
    "ExecuteTime": {
     "end_time": "2025-07-26T09:17:10.707570Z",
     "start_time": "2025-07-26T09:17:10.698861Z"
    }
   },
   "cell_type": "code",
   "source": [
    "robjects.r.assign('rpy2_search_df', rpy2_search_df)\n",
    "robjects.r('''\n",
    "row.names(rpy2_search_df) <- NULL\n",
    "rpy2_search_df\n",
    "''')"
   ],
   "id": "41623baa6cd51abf",
   "outputs": [
    {
     "data": {
      "text/plain": [
       "<rpy2.robjects.vectors.DataFrame object at 0x0000015E3FA8E690> [19]\n",
       "R classes: ('data.frame',)\n",
       "[StrSexpVector]\n",
       "  .: <class 'rpy2.rinterface_lib.sexp.StrSexpVector'>\n",
       "  <rpy2.rinterface_lib.sexp.StrSexpVector object at 0x0000015E3FD18D10> [16]"
      ],
      "text/html": [
       "\n",
       "<emph>DataFrame</emph> with 3 rows and\n",
       "  1 columns:\n",
       "<table class=\"rpy2_table\">\n",
       "  <thead>\n",
       "    <tr class=\"rpy2_names\">\n",
       "      <th></th>\n",
       "      <th></th>\n",
       "      <th>.</th>\n",
       "    </tr>\n",
       "  </thead>\n",
       "  <tbody>\n",
       "    <tr>\n",
       "      <td class=\"rpy2_rowname\">0</td>\n",
       "        <td class=\"rpy2_names\">1</td>\n",
       "      <td>ADAR</td>\n",
       "    </tr>\n",
       "    <tr>\n",
       "      <td class=\"rpy2_rowname\">1</td>\n",
       "        <td class=\"rpy2_names\">2</td>\n",
       "      <td>RPL36A-HNRNPH2</td>\n",
       "    </tr>\n",
       "    <tr>\n",
       "      <td class=\"rpy2_rowname\">2</td>\n",
       "        <td class=\"rpy2_names\">3</td>\n",
       "      <td>AGER</td>\n",
       "    </tr>\n",
       "  </tbody>\n",
       "</table>"
      ]
     },
     "execution_count": 23,
     "metadata": {},
     "output_type": "execute_result"
    }
   ],
   "execution_count": 23
  }
 ],
 "metadata": {
  "kernelspec": {
   "display_name": "Python 3",
   "language": "python",
   "name": "python3"
  },
  "language_info": {
   "codemirror_mode": {
    "name": "ipython",
    "version": 2
   },
   "file_extension": ".py",
   "mimetype": "text/x-python",
   "name": "python",
   "nbconvert_exporter": "python",
   "pygments_lexer": "ipython2",
   "version": "2.7.6"
  }
 },
 "nbformat": 4,
 "nbformat_minor": 5
}
